{
 "cells": [
  {
   "cell_type": "code",
   "execution_count": 1,
   "metadata": {},
   "outputs": [],
   "source": [
    "import numpy as np\n",
    "import pandas as pd\n",
    "import os"
   ]
  },
  {
   "cell_type": "code",
   "execution_count": 2,
   "metadata": {},
   "outputs": [
    {
     "name": "stdout",
     "output_type": "stream",
     "text": [
      "       Date  Profit/Losses\n",
      "0  Jan-2010         867884\n",
      "1  Feb-2010         984655\n",
      "2  Mar-2010         322013\n",
      "3  Apr-2010         -69417\n",
      "4  May-2010         310503\n"
     ]
    }
   ],
   "source": [
    "#With pandas\n",
    "\n",
    "data = pd.read_csv(\"Homework_Week2_PyBank_Resources_budget_data.csv\")\n",
    "print(data.head())\n",
    "months = data[\"Date\"].count()\n",
    "total = data[\"Profit/Losses\"].sum()\n",
    "data[\"Change\"] = data[\"Profit/Losses\"].diff()\n",
    "#print(data.head())\n",
    "average_change = data[\"Change\"].mean()\n",
    "max_change = data[\"Change\"].max()\n",
    "\n",
    "#print(data[data.Change == data.Change.max()]) \n",
    "max_change_month = data[data.Change == data.Change.max()].iloc[0,0]\n",
    "min_change = data[\"Change\"].min()\n",
    "min_change_month = data[data.Change == data.Change.min()].iloc[0,0]\n",
    "\n",
    "f = open(\"analysis.txt\", \"w\")\n",
    "\n",
    "print(\"Financial Analysis\", file = f)\n",
    "print(\"----------------------\", file = f)\n",
    "print(f\"Total Months: {months}\", file = f)\n",
    "print(f\"Total: ${total}\", file = f)\n",
    "print(f\"Average Change: ${average_change:.2f}\", file = f)\n",
    "print(f\"Greatest Increase in Profits: {max_change_month} (${max_change:.2f})\", file = f)\n",
    "print(f\"Greatest Decrease in Profits: {min_change_month} (${min_change:.2f})\", file = f)\n",
    "\n",
    "f.close()\n"
   ]
  },
  {
   "cell_type": "code",
   "execution_count": 56,
   "metadata": {},
   "outputs": [
    {
     "name": "stdout",
     "output_type": "stream",
     "text": [
      "\n"
     ]
    }
   ],
   "source": [
    "#Without pandas\n",
    "\n",
    "import csv\n",
    "table = []\n",
    "with open(\"Homework_Week2_PyBank_Resources_budget_data.csv\") as csvfile:\n",
    "    reader = csv.reader(csvfile)\n",
    "    next(reader, None)\n",
    "    for line in reader:\n",
    "        item = [line[0],int(line[1])]\n",
    "        table.append(item)\n",
    "count = len(table)\n",
    "sum_1 = 0\n",
    "change = 0\n",
    "change_list = []\n",
    "change_sum = 0\n",
    "prior_value = None\n",
    "\n",
    "greatest_increase = 0\n",
    "greatest_increase_month = \"\"\n",
    "greatest_decrease = 0\n",
    "greatest_decrease_month = \"\"\n",
    "\n",
    "for line in range(len(table)):\n",
    "    #print(table[line][1])\n",
    "    sum_1 += table[line][1]\n",
    "    try:\n",
    "        change = table[line][1] - prior_value\n",
    "    except:\n",
    "        print(\"\")\n",
    "    table[line].append(change)\n",
    "    change_list.append(change)\n",
    "    change_sum +=change\n",
    "    prior_value = table[line][1]\n",
    "    \n",
    "    if change > greatest_increase:\n",
    "        greatest_increase = change\n",
    "        greatest_increase_month = table[line][0]\n",
    "\n",
    "    if change < greatest_decrease:\n",
    "        greatest_decrease = change\n",
    "        greatest_decrease_month = table[line][0]\n",
    "    \n",
    "average_change = round(change_sum/(count-1))\n",
    "\n",
    "f = open(\"analysis.txt\", \"w\")\n",
    "\n",
    "print(\"Financial Analysis\", file = f)\n",
    "print(\"----------------------\", file = f)\n",
    "print(f\"Total Months: {count}\", file = f)\n",
    "print(f\"Total: ${sum_1}\", file = f)\n",
    "print(f\"Average Change: ${average_change:.2f}\", file = f)\n",
    "print(f\"Greatest Increase in Profits: {greatest_increase_month} (${greatest_increase:.2f})\", file = f)\n",
    "print(f\"Greatest Decrease in Profits: {greatest_decrease_month} (${greatest_decrease:.2f})\", file = f)\n",
    "\n",
    "f.close()\n",
    "\n"
   ]
  },
  {
   "cell_type": "code",
   "execution_count": 4,
   "metadata": {},
   "outputs": [],
   "source": [
    "\n",
    "\n"
   ]
  },
  {
   "cell_type": "code",
   "execution_count": null,
   "metadata": {},
   "outputs": [],
   "source": []
  }
 ],
 "metadata": {
  "kernelspec": {
   "display_name": "Python 3",
   "language": "python",
   "name": "python3"
  },
  "language_info": {
   "codemirror_mode": {
    "name": "ipython",
    "version": 3
   },
   "file_extension": ".py",
   "mimetype": "text/x-python",
   "name": "python",
   "nbconvert_exporter": "python",
   "pygments_lexer": "ipython3",
   "version": "3.8.3"
  }
 },
 "nbformat": 4,
 "nbformat_minor": 4
}
