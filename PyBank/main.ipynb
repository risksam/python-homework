{
 "cells": [
  {
   "cell_type": "code",
   "execution_count": 1,
   "metadata": {},
   "outputs": [],
   "source": [
    "import numpy as np\n",
    "import pandas as pd\n",
    "import os"
   ]
  },
  {
   "cell_type": "code",
   "execution_count": 18,
   "metadata": {},
   "outputs": [
    {
     "name": "stdout",
     "output_type": "stream",
     "text": [
      "       Date  Profit/Losses\n",
      "0  Jan-2010         867884\n",
      "1  Feb-2010         984655\n",
      "2  Mar-2010         322013\n",
      "3  Apr-2010         -69417\n",
      "4  May-2010         310503\n"
     ]
    }
   ],
   "source": [
    "data = pd.read_csv(\"Homework_Week2_PyBank_Resources_budget_data.csv\")\n",
    "print(data.head())\n",
    "months = data[\"Date\"].count()\n",
    "total = data[\"Profit/Losses\"].sum()"
   ]
  },
  {
   "cell_type": "code",
   "execution_count": 49,
   "metadata": {},
   "outputs": [
    {
     "name": "stdout",
     "output_type": "stream",
     "text": [
      "Sep-2013\n"
     ]
    }
   ],
   "source": [
    "data[\"Change\"] = data[\"Profit/Losses\"].diff()\n",
    "#print(data.head())\n",
    "average_change = data[\"Change\"].mean()\n",
    "max_change = data[\"Change\"].max()\n",
    "\n",
    "#print(data[data.Change == data.Change.max()]) \n",
    "max_change_month = data[data.Change == data.Change.max()].iloc[0,0]\n",
    "min_change = data[\"Change\"].min()\n",
    "min_change_month = data[data.Change == data.Change.min()].iloc[0,0]\n",
    "\n",
    "print(min_change_month)\n",
    "\n"
   ]
  },
  {
   "cell_type": "code",
   "execution_count": 66,
   "metadata": {},
   "outputs": [],
   "source": [
    "f = open(\"analysis.txt\", \"w\")\n",
    "\n",
    "print(\"Financial Analysis\", file = f)\n",
    "print(\"----------------------\", file = f)\n",
    "print(f\"Total Months: {months}\", file = f)\n",
    "print(f\"Total: ${total}\", file = f)\n",
    "print(f\"Average Change: ${average_change:.2f}\", file = f)\n",
    "print(f\"Greatest Increase in Profits: {max_change_month} (${max_change:.2f})\", file = f)\n",
    "print(f\"Greatest Decrease in Profits: {min_change_month} (${min_change:.2f})\", file = f)\n",
    "\n",
    "f.close()\n",
    "\n",
    "\n"
   ]
  },
  {
   "cell_type": "code",
   "execution_count": null,
   "metadata": {},
   "outputs": [],
   "source": []
  }
 ],
 "metadata": {
  "kernelspec": {
   "display_name": "Python 3",
   "language": "python",
   "name": "python3"
  },
  "language_info": {
   "codemirror_mode": {
    "name": "ipython",
    "version": 3
   },
   "file_extension": ".py",
   "mimetype": "text/x-python",
   "name": "python",
   "nbconvert_exporter": "python",
   "pygments_lexer": "ipython3",
   "version": "3.8.3"
  }
 },
 "nbformat": 4,
 "nbformat_minor": 4
}
